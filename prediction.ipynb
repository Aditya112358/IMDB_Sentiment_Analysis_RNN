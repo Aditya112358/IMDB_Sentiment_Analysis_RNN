{
 "cells": [
  {
   "cell_type": "code",
   "execution_count": 9,
   "id": "1ab52ce1",
   "metadata": {},
   "outputs": [],
   "source": [
    "import numpy as np\n",
    "import tensorflow as tf\n",
    "from tensorflow.keras.datasets import imdb\n",
    "from tensorflow.keras.preprocessing import sequence\n",
    "from tensorflow.keras.models import Sequential\n",
    "from tensorflow.keras.layers import Embedding, SimpleRNN, Dense"
   ]
  },
  {
   "cell_type": "code",
   "execution_count": 10,
   "id": "d6f17653",
   "metadata": {},
   "outputs": [],
   "source": [
    "# Load the imdb dataset word index\n",
    "word_index = imdb.get_word_index()\n",
    "reverse_word_index = {value:key for key,value in word_index.items()}"
   ]
  },
  {
   "cell_type": "code",
   "execution_count": 11,
   "id": "132fbfff",
   "metadata": {},
   "outputs": [
    {
     "name": "stderr",
     "output_type": "stream",
     "text": [
      "WARNING:absl:Compiled the loaded model, but the compiled metrics have yet to be built. `model.compile_metrics` will be empty until you train or evaluate the model.\n"
     ]
    },
    {
     "data": {
      "text/html": [
       "<pre style=\"white-space:pre;overflow-x:auto;line-height:normal;font-family:Menlo,'DejaVu Sans Mono',consolas,'Courier New',monospace\"><span style=\"font-weight: bold\">Model: \"sequential_3\"</span>\n",
       "</pre>\n"
      ],
      "text/plain": [
       "\u001b[1mModel: \"sequential_3\"\u001b[0m\n"
      ]
     },
     "metadata": {},
     "output_type": "display_data"
    },
    {
     "data": {
      "text/html": [
       "<pre style=\"white-space:pre;overflow-x:auto;line-height:normal;font-family:Menlo,'DejaVu Sans Mono',consolas,'Courier New',monospace\">┏━━━━━━━━━━━━━━━━━━━━━━━━━━━━━━━━━┳━━━━━━━━━━━━━━━━━━━━━━━━┳━━━━━━━━━━━━━━━┓\n",
       "┃<span style=\"font-weight: bold\"> Layer (type)                    </span>┃<span style=\"font-weight: bold\"> Output Shape           </span>┃<span style=\"font-weight: bold\">       Param # </span>┃\n",
       "┡━━━━━━━━━━━━━━━━━━━━━━━━━━━━━━━━━╇━━━━━━━━━━━━━━━━━━━━━━━━╇━━━━━━━━━━━━━━━┩\n",
       "│ embedding_3 (<span style=\"color: #0087ff; text-decoration-color: #0087ff\">Embedding</span>)         │ (<span style=\"color: #00d7ff; text-decoration-color: #00d7ff\">None</span>, <span style=\"color: #00af00; text-decoration-color: #00af00\">500</span>, <span style=\"color: #00af00; text-decoration-color: #00af00\">128</span>)       │     <span style=\"color: #00af00; text-decoration-color: #00af00\">1,280,000</span> │\n",
       "├─────────────────────────────────┼────────────────────────┼───────────────┤\n",
       "│ simple_rnn_2 (<span style=\"color: #0087ff; text-decoration-color: #0087ff\">SimpleRNN</span>)        │ (<span style=\"color: #00d7ff; text-decoration-color: #00d7ff\">None</span>, <span style=\"color: #00af00; text-decoration-color: #00af00\">500</span>, <span style=\"color: #00af00; text-decoration-color: #00af00\">128</span>)       │        <span style=\"color: #00af00; text-decoration-color: #00af00\">32,896</span> │\n",
       "├─────────────────────────────────┼────────────────────────┼───────────────┤\n",
       "│ simple_rnn_3 (<span style=\"color: #0087ff; text-decoration-color: #0087ff\">SimpleRNN</span>)        │ (<span style=\"color: #00d7ff; text-decoration-color: #00d7ff\">None</span>, <span style=\"color: #00af00; text-decoration-color: #00af00\">128</span>)            │        <span style=\"color: #00af00; text-decoration-color: #00af00\">32,896</span> │\n",
       "├─────────────────────────────────┼────────────────────────┼───────────────┤\n",
       "│ dense_2 (<span style=\"color: #0087ff; text-decoration-color: #0087ff\">Dense</span>)                 │ (<span style=\"color: #00d7ff; text-decoration-color: #00d7ff\">None</span>, <span style=\"color: #00af00; text-decoration-color: #00af00\">1</span>)              │           <span style=\"color: #00af00; text-decoration-color: #00af00\">129</span> │\n",
       "└─────────────────────────────────┴────────────────────────┴───────────────┘\n",
       "</pre>\n"
      ],
      "text/plain": [
       "┏━━━━━━━━━━━━━━━━━━━━━━━━━━━━━━━━━┳━━━━━━━━━━━━━━━━━━━━━━━━┳━━━━━━━━━━━━━━━┓\n",
       "┃\u001b[1m \u001b[0m\u001b[1mLayer (type)                   \u001b[0m\u001b[1m \u001b[0m┃\u001b[1m \u001b[0m\u001b[1mOutput Shape          \u001b[0m\u001b[1m \u001b[0m┃\u001b[1m \u001b[0m\u001b[1m      Param #\u001b[0m\u001b[1m \u001b[0m┃\n",
       "┡━━━━━━━━━━━━━━━━━━━━━━━━━━━━━━━━━╇━━━━━━━━━━━━━━━━━━━━━━━━╇━━━━━━━━━━━━━━━┩\n",
       "│ embedding_3 (\u001b[38;5;33mEmbedding\u001b[0m)         │ (\u001b[38;5;45mNone\u001b[0m, \u001b[38;5;34m500\u001b[0m, \u001b[38;5;34m128\u001b[0m)       │     \u001b[38;5;34m1,280,000\u001b[0m │\n",
       "├─────────────────────────────────┼────────────────────────┼───────────────┤\n",
       "│ simple_rnn_2 (\u001b[38;5;33mSimpleRNN\u001b[0m)        │ (\u001b[38;5;45mNone\u001b[0m, \u001b[38;5;34m500\u001b[0m, \u001b[38;5;34m128\u001b[0m)       │        \u001b[38;5;34m32,896\u001b[0m │\n",
       "├─────────────────────────────────┼────────────────────────┼───────────────┤\n",
       "│ simple_rnn_3 (\u001b[38;5;33mSimpleRNN\u001b[0m)        │ (\u001b[38;5;45mNone\u001b[0m, \u001b[38;5;34m128\u001b[0m)            │        \u001b[38;5;34m32,896\u001b[0m │\n",
       "├─────────────────────────────────┼────────────────────────┼───────────────┤\n",
       "│ dense_2 (\u001b[38;5;33mDense\u001b[0m)                 │ (\u001b[38;5;45mNone\u001b[0m, \u001b[38;5;34m1\u001b[0m)              │           \u001b[38;5;34m129\u001b[0m │\n",
       "└─────────────────────────────────┴────────────────────────┴───────────────┘\n"
      ]
     },
     "metadata": {},
     "output_type": "display_data"
    },
    {
     "data": {
      "text/html": [
       "<pre style=\"white-space:pre;overflow-x:auto;line-height:normal;font-family:Menlo,'DejaVu Sans Mono',consolas,'Courier New',monospace\"><span style=\"font-weight: bold\"> Total params: </span><span style=\"color: #00af00; text-decoration-color: #00af00\">1,345,923</span> (5.13 MB)\n",
       "</pre>\n"
      ],
      "text/plain": [
       "\u001b[1m Total params: \u001b[0m\u001b[38;5;34m1,345,923\u001b[0m (5.13 MB)\n"
      ]
     },
     "metadata": {},
     "output_type": "display_data"
    },
    {
     "data": {
      "text/html": [
       "<pre style=\"white-space:pre;overflow-x:auto;line-height:normal;font-family:Menlo,'DejaVu Sans Mono',consolas,'Courier New',monospace\"><span style=\"font-weight: bold\"> Trainable params: </span><span style=\"color: #00af00; text-decoration-color: #00af00\">1,345,921</span> (5.13 MB)\n",
       "</pre>\n"
      ],
      "text/plain": [
       "\u001b[1m Trainable params: \u001b[0m\u001b[38;5;34m1,345,921\u001b[0m (5.13 MB)\n"
      ]
     },
     "metadata": {},
     "output_type": "display_data"
    },
    {
     "data": {
      "text/html": [
       "<pre style=\"white-space:pre;overflow-x:auto;line-height:normal;font-family:Menlo,'DejaVu Sans Mono',consolas,'Courier New',monospace\"><span style=\"font-weight: bold\"> Non-trainable params: </span><span style=\"color: #00af00; text-decoration-color: #00af00\">0</span> (0.00 B)\n",
       "</pre>\n"
      ],
      "text/plain": [
       "\u001b[1m Non-trainable params: \u001b[0m\u001b[38;5;34m0\u001b[0m (0.00 B)\n"
      ]
     },
     "metadata": {},
     "output_type": "display_data"
    },
    {
     "data": {
      "text/html": [
       "<pre style=\"white-space:pre;overflow-x:auto;line-height:normal;font-family:Menlo,'DejaVu Sans Mono',consolas,'Courier New',monospace\"><span style=\"font-weight: bold\"> Optimizer params: </span><span style=\"color: #00af00; text-decoration-color: #00af00\">2</span> (12.00 B)\n",
       "</pre>\n"
      ],
      "text/plain": [
       "\u001b[1m Optimizer params: \u001b[0m\u001b[38;5;34m2\u001b[0m (12.00 B)\n"
      ]
     },
     "metadata": {},
     "output_type": "display_data"
    }
   ],
   "source": [
    "# Load pre-trained model with ReLU activation\n",
    "from tensorflow.keras.models import load_model\n",
    "model = load_model('simple_rnn_imdb.h5')\n",
    "model.summary()"
   ]
  },
  {
   "cell_type": "code",
   "execution_count": 12,
   "id": "7d2d8834",
   "metadata": {},
   "outputs": [
    {
     "data": {
      "text/html": [
       "<pre style=\"white-space:pre;overflow-x:auto;line-height:normal;font-family:Menlo,'DejaVu Sans Mono',consolas,'Courier New',monospace\"><span style=\"font-weight: bold\">Model: \"sequential_3\"</span>\n",
       "</pre>\n"
      ],
      "text/plain": [
       "\u001b[1mModel: \"sequential_3\"\u001b[0m\n"
      ]
     },
     "metadata": {},
     "output_type": "display_data"
    },
    {
     "data": {
      "text/html": [
       "<pre style=\"white-space:pre;overflow-x:auto;line-height:normal;font-family:Menlo,'DejaVu Sans Mono',consolas,'Courier New',monospace\">┏━━━━━━━━━━━━━━━━━━━━━━━━━━━━━━━━━┳━━━━━━━━━━━━━━━━━━━━━━━━┳━━━━━━━━━━━━━━━┓\n",
       "┃<span style=\"font-weight: bold\"> Layer (type)                    </span>┃<span style=\"font-weight: bold\"> Output Shape           </span>┃<span style=\"font-weight: bold\">       Param # </span>┃\n",
       "┡━━━━━━━━━━━━━━━━━━━━━━━━━━━━━━━━━╇━━━━━━━━━━━━━━━━━━━━━━━━╇━━━━━━━━━━━━━━━┩\n",
       "│ embedding_3 (<span style=\"color: #0087ff; text-decoration-color: #0087ff\">Embedding</span>)         │ (<span style=\"color: #00d7ff; text-decoration-color: #00d7ff\">None</span>, <span style=\"color: #00af00; text-decoration-color: #00af00\">500</span>, <span style=\"color: #00af00; text-decoration-color: #00af00\">128</span>)       │     <span style=\"color: #00af00; text-decoration-color: #00af00\">1,280,000</span> │\n",
       "├─────────────────────────────────┼────────────────────────┼───────────────┤\n",
       "│ simple_rnn_2 (<span style=\"color: #0087ff; text-decoration-color: #0087ff\">SimpleRNN</span>)        │ (<span style=\"color: #00d7ff; text-decoration-color: #00d7ff\">None</span>, <span style=\"color: #00af00; text-decoration-color: #00af00\">500</span>, <span style=\"color: #00af00; text-decoration-color: #00af00\">128</span>)       │        <span style=\"color: #00af00; text-decoration-color: #00af00\">32,896</span> │\n",
       "├─────────────────────────────────┼────────────────────────┼───────────────┤\n",
       "│ simple_rnn_3 (<span style=\"color: #0087ff; text-decoration-color: #0087ff\">SimpleRNN</span>)        │ (<span style=\"color: #00d7ff; text-decoration-color: #00d7ff\">None</span>, <span style=\"color: #00af00; text-decoration-color: #00af00\">128</span>)            │        <span style=\"color: #00af00; text-decoration-color: #00af00\">32,896</span> │\n",
       "├─────────────────────────────────┼────────────────────────┼───────────────┤\n",
       "│ dense_2 (<span style=\"color: #0087ff; text-decoration-color: #0087ff\">Dense</span>)                 │ (<span style=\"color: #00d7ff; text-decoration-color: #00d7ff\">None</span>, <span style=\"color: #00af00; text-decoration-color: #00af00\">1</span>)              │           <span style=\"color: #00af00; text-decoration-color: #00af00\">129</span> │\n",
       "└─────────────────────────────────┴────────────────────────┴───────────────┘\n",
       "</pre>\n"
      ],
      "text/plain": [
       "┏━━━━━━━━━━━━━━━━━━━━━━━━━━━━━━━━━┳━━━━━━━━━━━━━━━━━━━━━━━━┳━━━━━━━━━━━━━━━┓\n",
       "┃\u001b[1m \u001b[0m\u001b[1mLayer (type)                   \u001b[0m\u001b[1m \u001b[0m┃\u001b[1m \u001b[0m\u001b[1mOutput Shape          \u001b[0m\u001b[1m \u001b[0m┃\u001b[1m \u001b[0m\u001b[1m      Param #\u001b[0m\u001b[1m \u001b[0m┃\n",
       "┡━━━━━━━━━━━━━━━━━━━━━━━━━━━━━━━━━╇━━━━━━━━━━━━━━━━━━━━━━━━╇━━━━━━━━━━━━━━━┩\n",
       "│ embedding_3 (\u001b[38;5;33mEmbedding\u001b[0m)         │ (\u001b[38;5;45mNone\u001b[0m, \u001b[38;5;34m500\u001b[0m, \u001b[38;5;34m128\u001b[0m)       │     \u001b[38;5;34m1,280,000\u001b[0m │\n",
       "├─────────────────────────────────┼────────────────────────┼───────────────┤\n",
       "│ simple_rnn_2 (\u001b[38;5;33mSimpleRNN\u001b[0m)        │ (\u001b[38;5;45mNone\u001b[0m, \u001b[38;5;34m500\u001b[0m, \u001b[38;5;34m128\u001b[0m)       │        \u001b[38;5;34m32,896\u001b[0m │\n",
       "├─────────────────────────────────┼────────────────────────┼───────────────┤\n",
       "│ simple_rnn_3 (\u001b[38;5;33mSimpleRNN\u001b[0m)        │ (\u001b[38;5;45mNone\u001b[0m, \u001b[38;5;34m128\u001b[0m)            │        \u001b[38;5;34m32,896\u001b[0m │\n",
       "├─────────────────────────────────┼────────────────────────┼───────────────┤\n",
       "│ dense_2 (\u001b[38;5;33mDense\u001b[0m)                 │ (\u001b[38;5;45mNone\u001b[0m, \u001b[38;5;34m1\u001b[0m)              │           \u001b[38;5;34m129\u001b[0m │\n",
       "└─────────────────────────────────┴────────────────────────┴───────────────┘\n"
      ]
     },
     "metadata": {},
     "output_type": "display_data"
    },
    {
     "data": {
      "text/html": [
       "<pre style=\"white-space:pre;overflow-x:auto;line-height:normal;font-family:Menlo,'DejaVu Sans Mono',consolas,'Courier New',monospace\"><span style=\"font-weight: bold\"> Total params: </span><span style=\"color: #00af00; text-decoration-color: #00af00\">1,345,923</span> (5.13 MB)\n",
       "</pre>\n"
      ],
      "text/plain": [
       "\u001b[1m Total params: \u001b[0m\u001b[38;5;34m1,345,923\u001b[0m (5.13 MB)\n"
      ]
     },
     "metadata": {},
     "output_type": "display_data"
    },
    {
     "data": {
      "text/html": [
       "<pre style=\"white-space:pre;overflow-x:auto;line-height:normal;font-family:Menlo,'DejaVu Sans Mono',consolas,'Courier New',monospace\"><span style=\"font-weight: bold\"> Trainable params: </span><span style=\"color: #00af00; text-decoration-color: #00af00\">1,345,921</span> (5.13 MB)\n",
       "</pre>\n"
      ],
      "text/plain": [
       "\u001b[1m Trainable params: \u001b[0m\u001b[38;5;34m1,345,921\u001b[0m (5.13 MB)\n"
      ]
     },
     "metadata": {},
     "output_type": "display_data"
    },
    {
     "data": {
      "text/html": [
       "<pre style=\"white-space:pre;overflow-x:auto;line-height:normal;font-family:Menlo,'DejaVu Sans Mono',consolas,'Courier New',monospace\"><span style=\"font-weight: bold\"> Non-trainable params: </span><span style=\"color: #00af00; text-decoration-color: #00af00\">0</span> (0.00 B)\n",
       "</pre>\n"
      ],
      "text/plain": [
       "\u001b[1m Non-trainable params: \u001b[0m\u001b[38;5;34m0\u001b[0m (0.00 B)\n"
      ]
     },
     "metadata": {},
     "output_type": "display_data"
    },
    {
     "data": {
      "text/html": [
       "<pre style=\"white-space:pre;overflow-x:auto;line-height:normal;font-family:Menlo,'DejaVu Sans Mono',consolas,'Courier New',monospace\"><span style=\"font-weight: bold\"> Optimizer params: </span><span style=\"color: #00af00; text-decoration-color: #00af00\">2</span> (12.00 B)\n",
       "</pre>\n"
      ],
      "text/plain": [
       "\u001b[1m Optimizer params: \u001b[0m\u001b[38;5;34m2\u001b[0m (12.00 B)\n"
      ]
     },
     "metadata": {},
     "output_type": "display_data"
    }
   ],
   "source": [
    "model.summary()"
   ]
  },
  {
   "cell_type": "code",
   "execution_count": 13,
   "id": "bde9960c",
   "metadata": {},
   "outputs": [
    {
     "data": {
      "text/plain": [
       "[array([[-0.04508884, -0.02715593, -0.02631098, ..., -0.00824973,\n",
       "         -0.01132727,  0.0367542 ],\n",
       "        [-0.0274159 ,  0.0198959 ,  0.01747228, ...,  0.04965103,\n",
       "          0.06164434,  0.0018592 ],\n",
       "        [ 0.01223386,  0.01325051, -0.03415802, ...,  0.00267706,\n",
       "         -0.05850455,  0.01396059],\n",
       "        ...,\n",
       "        [ 0.06532333, -0.01349965,  0.03693824, ..., -0.02679583,\n",
       "          0.02676806, -0.00489433],\n",
       "        [ 0.00924491,  0.02887247, -0.019024  , ...,  0.02623358,\n",
       "         -0.01225952, -0.00773745],\n",
       "        [-0.10278619, -0.02443371,  0.06288251, ...,  0.05536968,\n",
       "          0.08317594,  0.01095843]], dtype=float32),\n",
       " array([[-0.09165064,  0.02286551,  0.10768216, ..., -0.05782061,\n",
       "         -0.06504118,  0.0966268 ],\n",
       "        [ 0.09870871, -0.10930477, -0.06764474, ..., -0.12224711,\n",
       "          0.00451653,  0.12553048],\n",
       "        [ 0.18675311, -0.16750401, -0.12241193, ...,  0.02249595,\n",
       "          0.12325967, -0.03826181],\n",
       "        ...,\n",
       "        [ 0.00051421,  0.00199599,  0.0430411 , ..., -0.14884306,\n",
       "          0.01203888, -0.01795338],\n",
       "        [ 0.09331477, -0.07637708,  0.0456161 , ...,  0.01479822,\n",
       "          0.0605181 , -0.12881413],\n",
       "        [ 0.15383632, -0.06567978, -0.04244902, ..., -0.10550079,\n",
       "         -0.00828257, -0.12410533]], dtype=float32),\n",
       " array([[-0.12643987,  0.01368651, -0.17676336, ..., -0.03248829,\n",
       "         -0.04953506, -0.00765561],\n",
       "        [ 0.34066057,  0.02085935,  0.03472861, ..., -0.00086345,\n",
       "          0.09372129, -0.00739021],\n",
       "        [ 0.04061205,  0.15018223,  0.1060253 , ..., -0.00234949,\n",
       "         -0.07252456,  0.22651187],\n",
       "        ...,\n",
       "        [-0.06265651, -0.0503759 , -0.12432927, ..., -0.13698032,\n",
       "         -0.07887483,  0.04585496],\n",
       "        [-0.09165843,  0.13595758,  0.1919099 , ...,  0.04348208,\n",
       "         -0.01141866, -0.01748843],\n",
       "        [ 0.06317949,  0.01078027, -0.02748593, ..., -0.10443967,\n",
       "          0.00810171, -0.0144304 ]], dtype=float32),\n",
       " array([-3.96530963e-02, -8.33036285e-03,  3.64197348e-03,  4.15434279e-02,\n",
       "        -1.44493766e-03,  4.79284339e-02,  6.15790440e-03, -1.84452757e-02,\n",
       "         6.88404590e-03,  1.36642708e-02, -1.87350418e-02, -3.12291901e-03,\n",
       "        -1.82163622e-02,  1.32261040e-02,  9.74269956e-03, -8.77894927e-03,\n",
       "        -1.45037519e-02, -2.04837043e-02, -3.29779088e-02, -3.01365252e-03,\n",
       "        -1.48445629e-02, -8.65164585e-03,  3.52663454e-03,  2.39361003e-02,\n",
       "         2.26783622e-02, -2.13593226e-02,  1.21652037e-02, -4.67658555e-03,\n",
       "        -2.20534969e-02,  1.33671919e-02,  1.28717860e-02,  1.94349270e-02,\n",
       "        -3.55155882e-03,  3.21004400e-03,  1.33598680e-02,  4.21410762e-02,\n",
       "        -1.22646624e-02,  1.20933065e-02, -2.07187943e-02,  2.32282095e-02,\n",
       "        -1.48309977e-03, -3.25321145e-02, -7.79761188e-03, -7.67159788e-03,\n",
       "        -3.39654945e-02,  1.19064264e-02,  1.46186259e-02,  9.11428966e-03,\n",
       "         9.37413331e-03,  1.18848933e-02, -3.72339450e-02,  1.70043018e-02,\n",
       "         2.68873051e-02, -5.20306779e-03,  5.91753330e-03,  3.94716067e-03,\n",
       "        -2.51069618e-03,  9.04236548e-03,  3.84186191e-04,  5.84346754e-03,\n",
       "        -1.01732155e-02,  1.28554602e-05,  5.88294528e-02, -2.32288595e-02,\n",
       "         8.09517354e-02,  4.88471277e-02,  6.50796061e-03,  1.87171679e-02,\n",
       "         2.86177546e-02,  3.25653441e-02,  6.70251530e-03,  5.12864813e-03,\n",
       "        -9.94351413e-03,  3.62113751e-02,  1.53147355e-02, -1.50372135e-02,\n",
       "         1.04633290e-02, -3.56458500e-02,  2.34391633e-02, -1.91686433e-02,\n",
       "         4.33132984e-02,  1.22216595e-02, -8.32307036e-04,  4.03672643e-03,\n",
       "        -1.95629578e-02,  2.86545493e-02,  1.31375538e-02, -9.52154677e-03,\n",
       "         4.31453809e-02,  2.79684998e-02, -8.99529550e-03, -2.22327048e-03,\n",
       "        -1.03215761e-02,  1.27229998e-02, -9.68341902e-03, -8.99621006e-03,\n",
       "        -1.01920236e-02,  7.03017414e-03,  8.33547022e-03, -1.17509943e-02,\n",
       "        -1.52843175e-02,  2.23454535e-02, -1.80116203e-02, -1.46103725e-02,\n",
       "         3.73817817e-03, -4.91454788e-02,  3.86230946e-02,  3.31641398e-02,\n",
       "        -1.28810005e-02, -1.21071739e-02, -5.10389125e-03,  1.35612907e-02,\n",
       "         2.40928885e-02, -8.00542999e-03,  2.15555206e-02,  1.11559043e-02,\n",
       "        -3.49307852e-03,  1.62706655e-02,  2.55574118e-02, -1.22774336e-02,\n",
       "         8.70211690e-04, -7.12797977e-03, -4.03202325e-02,  6.27271924e-03,\n",
       "        -1.75261330e-02,  7.59485038e-03, -1.77955627e-02, -2.73949858e-02],\n",
       "       dtype=float32),\n",
       " array([[-0.1380455 , -0.05431591,  0.08781844, ...,  0.07851912,\n",
       "          0.03428861, -0.13648523],\n",
       "        [ 0.01675197,  0.10288314,  0.04408305, ...,  0.03665252,\n",
       "         -0.15772992,  0.13552257],\n",
       "        [ 0.10978269,  0.01432622, -0.10842012, ...,  0.07856186,\n",
       "         -0.03780066,  0.07719799],\n",
       "        ...,\n",
       "        [-0.08023807, -0.06707996, -0.08396001, ..., -0.01345193,\n",
       "          0.05850465,  0.00731451],\n",
       "        [-0.06527639,  0.133736  ,  0.10507461, ...,  0.05514326,\n",
       "          0.1118753 , -0.02242338],\n",
       "        [ 0.06017375, -0.05872855,  0.0140129 , ..., -0.00336574,\n",
       "          0.04075612, -0.1022374 ]], dtype=float32),\n",
       " array([[ 0.06251976,  0.10261329, -0.00471626, ..., -0.03933013,\n",
       "          0.10233168, -0.02379931],\n",
       "        [ 0.11094677, -0.04323466, -0.05334753, ..., -0.10970774,\n",
       "         -0.1208446 , -0.07807779],\n",
       "        [ 0.10539386, -0.04499354,  0.04806461, ...,  0.03958001,\n",
       "         -0.12637673,  0.0576003 ],\n",
       "        ...,\n",
       "        [ 0.06138542, -0.03148682, -0.1100378 , ...,  0.00773147,\n",
       "          0.04309313, -0.18074277],\n",
       "        [ 0.02690792, -0.00596577,  0.0757197 , ..., -0.19538173,\n",
       "         -0.06297316,  0.00320383],\n",
       "        [ 0.05860044,  0.09186763, -0.05483892, ..., -0.14784083,\n",
       "         -0.04834358,  0.01770429]], dtype=float32),\n",
       " array([-0.04852317, -0.01983202, -0.02487482, -0.00363358, -0.02499849,\n",
       "        -0.02866207, -0.00818221, -0.03882938, -0.04757791, -0.01961564,\n",
       "        -0.02983393, -0.01209132, -0.0154951 , -0.02011062, -0.03803602,\n",
       "         0.00106347, -0.0049572 , -0.01007912, -0.01205571, -0.01709714,\n",
       "        -0.05748641, -0.01427141, -0.00611966, -0.01850336, -0.02160755,\n",
       "        -0.03281737, -0.02122444, -0.02983007, -0.02280341, -0.01798761,\n",
       "        -0.01420819, -0.04761834, -0.01459009, -0.05389844, -0.01375045,\n",
       "        -0.03030627, -0.02076311, -0.01641988, -0.02662009, -0.0161564 ,\n",
       "        -0.03499147, -0.01489598, -0.00091316, -0.05139349, -0.02284069,\n",
       "        -0.00667237, -0.00432405, -0.04934404, -0.01075507, -0.0087478 ,\n",
       "        -0.01879696, -0.02085989, -0.03102712, -0.04389076, -0.03273191,\n",
       "        -0.03539681, -0.02086394, -0.01080582, -0.01449036, -0.01738945,\n",
       "        -0.04242177, -0.02015326, -0.01745975, -0.01644746, -0.02763884,\n",
       "        -0.01716197, -0.03051349, -0.01717602,  0.0075272 , -0.02171641,\n",
       "        -0.0162454 , -0.01905534, -0.02739767, -0.02903708, -0.01429995,\n",
       "        -0.04608398, -0.01065625, -0.01967256, -0.02933107, -0.02885536,\n",
       "        -0.00218614, -0.03673068, -0.02695706, -0.03348218, -0.0264206 ,\n",
       "        -0.0296952 , -0.03467902, -0.02427614, -0.01745343, -0.03025494,\n",
       "        -0.02202608, -0.01910854, -0.02064773, -0.0260133 , -0.02348852,\n",
       "        -0.03254598, -0.00584825, -0.00967415, -0.04399657, -0.03619716,\n",
       "        -0.01822574, -0.01799634, -0.01704544, -0.03730616, -0.03296588,\n",
       "        -0.01005152, -0.02299738, -0.03437265, -0.01857559, -0.00661547,\n",
       "        -0.02046016, -0.02151296, -0.04055954, -0.04406547, -0.02099169,\n",
       "        -0.02362655,  0.00949458, -0.02715857, -0.01673594, -0.00867199,\n",
       "        -0.02785211, -0.02038483, -0.00025721, -0.02831711, -0.0273161 ,\n",
       "        -0.03007424, -0.01181936, -0.03154377], dtype=float32),\n",
       " array([[-0.1311586 ],\n",
       "        [-0.13496737],\n",
       "        [ 0.02104169],\n",
       "        [ 0.0643635 ],\n",
       "        [ 0.07167082],\n",
       "        [ 0.16224961],\n",
       "        [-0.1093374 ],\n",
       "        [ 0.13704239],\n",
       "        [-0.05457195],\n",
       "        [ 0.08959228],\n",
       "        [ 0.06422932],\n",
       "        [ 0.03548265],\n",
       "        [-0.00349393],\n",
       "        [ 0.01132279],\n",
       "        [ 0.06023451],\n",
       "        [-0.00654896],\n",
       "        [ 0.08840074],\n",
       "        [-0.18319744],\n",
       "        [-0.02137817],\n",
       "        [ 0.00043191],\n",
       "        [ 0.14403646],\n",
       "        [-0.10548654],\n",
       "        [-0.06436861],\n",
       "        [-0.03324147],\n",
       "        [-0.06254513],\n",
       "        [-0.16789341],\n",
       "        [-0.0233989 ],\n",
       "        [-0.15902415],\n",
       "        [ 0.04704377],\n",
       "        [ 0.03232728],\n",
       "        [-0.04023156],\n",
       "        [-0.08984981],\n",
       "        [-0.14948925],\n",
       "        [ 0.03937946],\n",
       "        [-0.09037372],\n",
       "        [-0.15126942],\n",
       "        [-0.04598884],\n",
       "        [ 0.09600646],\n",
       "        [-0.01541638],\n",
       "        [-0.14900194],\n",
       "        [-0.03288373],\n",
       "        [ 0.03597157],\n",
       "        [ 0.10378865],\n",
       "        [-0.00584415],\n",
       "        [ 0.11802191],\n",
       "        [ 0.0949407 ],\n",
       "        [-0.17038924],\n",
       "        [-0.09311754],\n",
       "        [-0.10132959],\n",
       "        [ 0.09068864],\n",
       "        [-0.04278316],\n",
       "        [ 0.09974485],\n",
       "        [ 0.0556736 ],\n",
       "        [ 0.12680702],\n",
       "        [ 0.08091149],\n",
       "        [ 0.16340175],\n",
       "        [-0.13426825],\n",
       "        [ 0.0095144 ],\n",
       "        [ 0.05012957],\n",
       "        [-0.14033937],\n",
       "        [ 0.14563812],\n",
       "        [-0.11915709],\n",
       "        [-0.19164684],\n",
       "        [-0.06036624],\n",
       "        [ 0.13390905],\n",
       "        [ 0.0185422 ],\n",
       "        [ 0.03482245],\n",
       "        [-0.10811796],\n",
       "        [ 0.13570888],\n",
       "        [-0.11581852],\n",
       "        [ 0.0428833 ],\n",
       "        [ 0.04497498],\n",
       "        [ 0.16867848],\n",
       "        [ 0.05754406],\n",
       "        [ 0.09547858],\n",
       "        [-0.02367759],\n",
       "        [ 0.07718773],\n",
       "        [-0.04751867],\n",
       "        [-0.10685702],\n",
       "        [-0.08942381],\n",
       "        [-0.0067651 ],\n",
       "        [-0.0149152 ],\n",
       "        [ 0.17716973],\n",
       "        [ 0.20203777],\n",
       "        [ 0.05574418],\n",
       "        [-0.01226596],\n",
       "        [ 0.15874524],\n",
       "        [-0.1861256 ],\n",
       "        [ 0.01463107],\n",
       "        [ 0.03457959],\n",
       "        [-0.12954272],\n",
       "        [-0.09533962],\n",
       "        [-0.02288758],\n",
       "        [ 0.13727924],\n",
       "        [-0.00238492],\n",
       "        [ 0.11146799],\n",
       "        [-0.0427718 ],\n",
       "        [ 0.0561086 ],\n",
       "        [ 0.08859891],\n",
       "        [ 0.13763526],\n",
       "        [ 0.0018096 ],\n",
       "        [ 0.09760252],\n",
       "        [-0.14332436],\n",
       "        [-0.04740344],\n",
       "        [ 0.09059741],\n",
       "        [ 0.09689404],\n",
       "        [ 0.08786488],\n",
       "        [ 0.00769438],\n",
       "        [-0.17973806],\n",
       "        [ 0.01137295],\n",
       "        [ 0.01589077],\n",
       "        [ 0.17865315],\n",
       "        [ 0.06286149],\n",
       "        [ 0.03143282],\n",
       "        [-0.09536295],\n",
       "        [-0.03438635],\n",
       "        [-0.10107043],\n",
       "        [-0.09916959],\n",
       "        [ 0.12258933],\n",
       "        [-0.08160975],\n",
       "        [ 0.04155887],\n",
       "        [-0.11504331],\n",
       "        [ 0.14850385],\n",
       "        [ 0.06015058],\n",
       "        [ 0.03404627],\n",
       "        [-0.05834012],\n",
       "        [ 0.01837096],\n",
       "        [-0.01419931]], dtype=float32),\n",
       " array([-0.01214725], dtype=float32)]"
      ]
     },
     "execution_count": 13,
     "metadata": {},
     "output_type": "execute_result"
    }
   ],
   "source": [
    "model.get_weights()"
   ]
  },
  {
   "cell_type": "code",
   "execution_count": 14,
   "id": "a30e59a6",
   "metadata": {},
   "outputs": [],
   "source": [
    "# Function to decode reviews\n",
    "def decode_review(encoded_review):\n",
    "    return ' '.join([reverse_word_index.get(i-3, '?') for i in encoded_review])\n",
    "\n",
    "\n",
    "# Function to preprocess user input\n",
    "def preprocess_text(text):\n",
    "    words = text.lower().split()\n",
    "    encoded_review = [word_index.get(word,2) + 3 for word in words]\n",
    "    padded_review = sequence.pad_sequences([encoded_review], maxlen=500)\n",
    "    return padded_review"
   ]
  },
  {
   "cell_type": "code",
   "execution_count": 15,
   "id": "6b8bbf80",
   "metadata": {},
   "outputs": [],
   "source": [
    "### Prediction function\n",
    "def predict_sentiment(review):\n",
    "    preprocessed_input = preprocess_text(review)\n",
    "    prediction = model.predict(preprocessed_input)\n",
    "    sentiment = 'Positive' if prediction[0][0] > 0.5 else 'Negative'\n",
    "    return sentiment, prediction[0][0]\n",
    "\n"
   ]
  },
  {
   "cell_type": "code",
   "execution_count": 16,
   "id": "e9c14a2a",
   "metadata": {},
   "outputs": [
    {
     "name": "stdout",
     "output_type": "stream",
     "text": [
      "\u001b[1m1/1\u001b[0m \u001b[32m━━━━━━━━━━━━━━━━━━━━\u001b[0m\u001b[37m\u001b[0m \u001b[1m0s\u001b[0m 417ms/step\n",
      "Review: the movie was technically very good. i enjoyed a lot. what a fabulous experience\n",
      "Sentiment: Positive\n",
      "Prediction Score: 0.918267011642456\n"
     ]
    }
   ],
   "source": [
    "# Example review for prediction\n",
    "example_review = \"the movie was technically very good. i enjoyed a lot. what a fabulous experience\"\n",
    "sentiment , score = predict_sentiment(example_review)\n",
    "print(F\"Review: {example_review}\")\n",
    "print(F\"Sentiment: {sentiment}\")\n",
    "print(F\"Prediction Score: {score}\")"
   ]
  },
  {
   "cell_type": "code",
   "execution_count": null,
   "id": "f31acf19",
   "metadata": {},
   "outputs": [],
   "source": []
  }
 ],
 "metadata": {
  "kernelspec": {
   "display_name": "simple_rnn_env",
   "language": "python",
   "name": "python3"
  },
  "language_info": {
   "codemirror_mode": {
    "name": "ipython",
    "version": 3
   },
   "file_extension": ".py",
   "mimetype": "text/x-python",
   "name": "python",
   "nbconvert_exporter": "python",
   "pygments_lexer": "ipython3",
   "version": "3.12.0"
  }
 },
 "nbformat": 4,
 "nbformat_minor": 5
}
